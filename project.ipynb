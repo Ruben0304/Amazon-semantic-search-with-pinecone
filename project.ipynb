{
  "cells": [
    {
      "cell_type": "code",
      "source": [
        "https://colab.research.google.com/drive/12aw93WMdyCygvjrpsBluV4v0UoQsY3eC?usp=sharing"
      ],
      "metadata": {
        "id": "VRWQiNjNwqSb"
      },
      "execution_count": null,
      "outputs": []
    },
    {
      "cell_type": "markdown",
      "source": [
        "# **Instalar lo q hace falta**"
      ],
      "metadata": {
        "id": "2HN11RGcPW1C"
      }
    },
    {
      "cell_type": "code",
      "source": [
        "!pip install pinecone-client sentence-transformers"
      ],
      "metadata": {
        "id": "2pbfzJBlPCjR",
        "colab": {
          "base_uri": "https://localhost:8080/"
        },
        "outputId": "16366637-3570-4bc1-d5e5-f49a4a654e50"
      },
      "execution_count": null,
      "outputs": [
        {
          "output_type": "stream",
          "name": "stdout",
          "text": [
            "Collecting pinecone-client\n",
            "  Downloading pinecone_client-5.0.0-py3-none-any.whl (244 kB)\n",
            "\u001b[2K     \u001b[90m━━━━━━━━━━━━━━━━━━━━━━━━━━━━━━━━━━━━━━━━\u001b[0m \u001b[32m244.8/244.8 kB\u001b[0m \u001b[31m1.8 MB/s\u001b[0m eta \u001b[36m0:00:00\u001b[0m\n",
            "\u001b[?25hCollecting sentence-transformers\n",
            "  Downloading sentence_transformers-3.0.1-py3-none-any.whl (227 kB)\n",
            "\u001b[2K     \u001b[90m━━━━━━━━━━━━━━━━━━━━━━━━━━━━━━━━━━━━━━━━\u001b[0m \u001b[32m227.1/227.1 kB\u001b[0m \u001b[31m9.1 MB/s\u001b[0m eta \u001b[36m0:00:00\u001b[0m\n",
            "\u001b[?25hRequirement already satisfied: certifi>=2019.11.17 in /usr/local/lib/python3.10/dist-packages (from pinecone-client) (2024.7.4)\n",
            "Collecting pinecone-plugin-inference==1.0.2 (from pinecone-client)\n",
            "  Downloading pinecone_plugin_inference-1.0.2-py3-none-any.whl (117 kB)\n",
            "\u001b[2K     \u001b[90m━━━━━━━━━━━━━━━━━━━━━━━━━━━━━━━━━━━━━━━━\u001b[0m \u001b[32m117.6/117.6 kB\u001b[0m \u001b[31m6.2 MB/s\u001b[0m eta \u001b[36m0:00:00\u001b[0m\n",
            "\u001b[?25hCollecting pinecone-plugin-interface<0.0.8,>=0.0.7 (from pinecone-client)\n",
            "  Downloading pinecone_plugin_interface-0.0.7-py3-none-any.whl (6.2 kB)\n",
            "Requirement already satisfied: tqdm>=4.64.1 in /usr/local/lib/python3.10/dist-packages (from pinecone-client) (4.66.4)\n",
            "Requirement already satisfied: typing-extensions>=3.7.4 in /usr/local/lib/python3.10/dist-packages (from pinecone-client) (4.12.2)\n",
            "Requirement already satisfied: urllib3>=1.26.0 in /usr/local/lib/python3.10/dist-packages (from pinecone-client) (2.0.7)\n",
            "Requirement already satisfied: transformers<5.0.0,>=4.34.0 in /usr/local/lib/python3.10/dist-packages (from sentence-transformers) (4.42.4)\n",
            "Requirement already satisfied: torch>=1.11.0 in /usr/local/lib/python3.10/dist-packages (from sentence-transformers) (2.3.1+cu121)\n",
            "Requirement already satisfied: numpy in /usr/local/lib/python3.10/dist-packages (from sentence-transformers) (1.25.2)\n",
            "Requirement already satisfied: scikit-learn in /usr/local/lib/python3.10/dist-packages (from sentence-transformers) (1.2.2)\n",
            "Requirement already satisfied: scipy in /usr/local/lib/python3.10/dist-packages (from sentence-transformers) (1.11.4)\n",
            "Requirement already satisfied: huggingface-hub>=0.15.1 in /usr/local/lib/python3.10/dist-packages (from sentence-transformers) (0.23.5)\n",
            "Requirement already satisfied: Pillow in /usr/local/lib/python3.10/dist-packages (from sentence-transformers) (9.4.0)\n",
            "Requirement already satisfied: filelock in /usr/local/lib/python3.10/dist-packages (from huggingface-hub>=0.15.1->sentence-transformers) (3.15.4)\n",
            "Requirement already satisfied: fsspec>=2023.5.0 in /usr/local/lib/python3.10/dist-packages (from huggingface-hub>=0.15.1->sentence-transformers) (2023.6.0)\n",
            "Requirement already satisfied: packaging>=20.9 in /usr/local/lib/python3.10/dist-packages (from huggingface-hub>=0.15.1->sentence-transformers) (24.1)\n",
            "Requirement already satisfied: pyyaml>=5.1 in /usr/local/lib/python3.10/dist-packages (from huggingface-hub>=0.15.1->sentence-transformers) (6.0.1)\n",
            "Requirement already satisfied: requests in /usr/local/lib/python3.10/dist-packages (from huggingface-hub>=0.15.1->sentence-transformers) (2.31.0)\n",
            "Requirement already satisfied: sympy in /usr/local/lib/python3.10/dist-packages (from torch>=1.11.0->sentence-transformers) (1.13.0)\n",
            "Requirement already satisfied: networkx in /usr/local/lib/python3.10/dist-packages (from torch>=1.11.0->sentence-transformers) (3.3)\n",
            "Requirement already satisfied: jinja2 in /usr/local/lib/python3.10/dist-packages (from torch>=1.11.0->sentence-transformers) (3.1.4)\n",
            "Collecting nvidia-cuda-nvrtc-cu12==12.1.105 (from torch>=1.11.0->sentence-transformers)\n",
            "  Using cached nvidia_cuda_nvrtc_cu12-12.1.105-py3-none-manylinux1_x86_64.whl (23.7 MB)\n",
            "Collecting nvidia-cuda-runtime-cu12==12.1.105 (from torch>=1.11.0->sentence-transformers)\n",
            "  Using cached nvidia_cuda_runtime_cu12-12.1.105-py3-none-manylinux1_x86_64.whl (823 kB)\n",
            "Collecting nvidia-cuda-cupti-cu12==12.1.105 (from torch>=1.11.0->sentence-transformers)\n",
            "  Using cached nvidia_cuda_cupti_cu12-12.1.105-py3-none-manylinux1_x86_64.whl (14.1 MB)\n",
            "Collecting nvidia-cudnn-cu12==8.9.2.26 (from torch>=1.11.0->sentence-transformers)\n",
            "  Using cached nvidia_cudnn_cu12-8.9.2.26-py3-none-manylinux1_x86_64.whl (731.7 MB)\n",
            "Collecting nvidia-cublas-cu12==12.1.3.1 (from torch>=1.11.0->sentence-transformers)\n",
            "  Using cached nvidia_cublas_cu12-12.1.3.1-py3-none-manylinux1_x86_64.whl (410.6 MB)\n",
            "Collecting nvidia-cufft-cu12==11.0.2.54 (from torch>=1.11.0->sentence-transformers)\n",
            "  Using cached nvidia_cufft_cu12-11.0.2.54-py3-none-manylinux1_x86_64.whl (121.6 MB)\n",
            "Collecting nvidia-curand-cu12==10.3.2.106 (from torch>=1.11.0->sentence-transformers)\n",
            "  Using cached nvidia_curand_cu12-10.3.2.106-py3-none-manylinux1_x86_64.whl (56.5 MB)\n",
            "Collecting nvidia-cusolver-cu12==11.4.5.107 (from torch>=1.11.0->sentence-transformers)\n",
            "  Using cached nvidia_cusolver_cu12-11.4.5.107-py3-none-manylinux1_x86_64.whl (124.2 MB)\n"
          ]
        }
      ]
    },
    {
      "cell_type": "code",
      "source": [
        "from sentence_transformers import SentenceTransformer\n",
        "model = SentenceTransformer('multi-qa-mpnet-base-dot-v1')"
      ],
      "metadata": {
        "id": "mN9qhUv-PCfd"
      },
      "execution_count": null,
      "outputs": []
    },
    {
      "cell_type": "code",
      "source": [
        "from pinecone import Pinecone\n",
        "import pandas as pd\n",
        "import ast\n",
        "\n",
        "\n",
        "pc = Pinecone(api_key=\"19316538-e983-4d75-9868-da68f4439da9\")\n",
        "index = pc.Index(\"amazon\")"
      ],
      "metadata": {
        "id": "aE8H5_IsPCbj"
      },
      "execution_count": null,
      "outputs": []
    },
    {
      "cell_type": "code",
      "source": [
        "!pip install deep_translator\n",
        "from deep_translator import GoogleTranslator"
      ],
      "metadata": {
        "id": "AEaDHiUhPCX3"
      },
      "execution_count": null,
      "outputs": []
    },
    {
      "cell_type": "code",
      "source": [
        "!pip install ipywidgets\n",
        "import ipywidgets as widgets\n",
        "from IPython.display import display, HTML\n",
        "import random"
      ],
      "metadata": {
        "id": "7En3fDv7PBkY"
      },
      "execution_count": null,
      "outputs": []
    },
    {
      "cell_type": "markdown",
      "source": [
        "# **Ejecutar el programa**"
      ],
      "metadata": {
        "id": "8dGLqXb3PdX3"
      }
    },
    {
      "cell_type": "code",
      "source": [
        "# Estilos CSS para el header similar a Amazon\n",
        "estilos = \"\"\"\n",
        "<style>\n",
        "    body {\n",
        "        background-color: #f0f4f8;\n",
        "        font-family: 'Helvetica Neue', Arial, sans-serif;\n",
        "    }\n",
        "    .header {\n",
        "        background-color: #232f3e;\n",
        "        padding: 10px 20px;\n",
        "        display: flex;\n",
        "        align-items: center;\n",
        "        justify-content: space-between;\n",
        "        color: white;\n",
        "        font-size: 14px;\n",
        "    }\n",
        "    .logo {\n",
        "        font-size: 24px;\n",
        "        font-weight: bold;\n",
        "    }\n",
        "    .search-bar {\n",
        "    flex: 1 !important;\n",
        "    margin: 0 20px !important;\n",
        "    padding: 12px 25px !important;\n",
        "    border-radius: 50px !important;\n",
        "    border: 1px solid #ddd !important;\n",
        "    font-size: 15px !important;\n",
        "    background-color: #f5f5f5 !important;\n",
        "    color: #555 !important;\n",
        "    transition: all 0.3s ease !important;\n",
        "    box-shadow: 0 8px 15px rgba(0, 0, 0, 0.1) !important;\n",
        "    font-family: 'Helvetica Neue', sans-serif !important;\n",
        "}\n",
        "\n",
        ".search-bar:focus {\n",
        "    outline: none !important;\n",
        "    border-color: #3498db !important;\n",
        "    box-shadow: 0 0 15px rgba(52, 152, 219, 0.7) !important;\n",
        "    background-color: #fff !important;\n",
        "}\n",
        "\n",
        ".search-bar::placeholder {\n",
        "    color: #aaa !important;\n",
        "    font-style: italic !important;\n",
        "}\n",
        "\n",
        "\n",
        "    .search-button {\n",
        "        background-color: #febd69;\n",
        "        border: 1px solid #f90;\n",
        "        font-size: 16px;\n",
        "        cursor: pointer;\n",
        "        border-radius: 4px;\n",
        "        color: black;\n",
        "        font-weight: bold;\n",
        "    }\n",
        "    .search-button:hover {\n",
        "        background-color: #f90;\n",
        "    }\n",
        "    .language-selector {\n",
        "        margin-left: 5px;\n",
        "        width: 8%;\n",
        "    }\n",
        "    .language-selector select {\n",
        "        border-radius: 4px;\n",
        "        border: 1px solid #ccc;\n",
        "        background-color: #3498db; /* Nuevo color azul para el botón de idioma */\n",
        "        color: white;\n",
        "        cursor: pointer;\n",
        "        padding: 5px 10px;\n",
        "    }\n",
        "    .tienda-container {\n",
        "        max-width: 1200px;\n",
        "        margin: 0 auto;\n",
        "        padding: 20px;\n",
        "    }\n",
        "    .productos-grid {\n",
        "        display: grid;\n",
        "        grid-template-columns: repeat(auto-fill, minmax(250px, 1fr));\n",
        "        gap: 25px;\n",
        "        padding: 30px 0;\n",
        "    }\n",
        "    .producto-card {\n",
        "        background-color: white;\n",
        "        border-radius: 12px;\n",
        "        box-shadow: 0 8px 16px rgba(0,0,0,0.1);\n",
        "        overflow: hidden;\n",
        "        transition: transform 0.3s ease, box-shadow 0.3s ease;\n",
        "    }\n",
        "    .producto-card:hover {\n",
        "        transform: translateY(-5px);\n",
        "        box-shadow: 0 12px 20px rgba(0,0,0,0.15);\n",
        "    }\n",
        "    .producto-imagen {\n",
        "        width: 100%;\n",
        "        height: 200px;\n",
        "        object-fit: cover;\n",
        "    }\n",
        "    .producto-info {\n",
        "        padding: 20px;\n",
        "    }\n",
        "    .producto-nombre {\n",
        "        font-size: 18px;\n",
        "        font-weight: bold;\n",
        "        margin-bottom: 10px;\n",
        "        color: #333;\n",
        "    }\n",
        "    .producto-precio {\n",
        "        font-size: 16px;\n",
        "        color: #e74c3c;\n",
        "        font-weight: bold;\n",
        "    }\n",
        "    .producto-valoracion {\n",
        "        color: #f39c12;\n",
        "        margin-top: 5px;\n",
        "    }\n",
        "    .producto-link {\n",
        "        display: inline-block;\n",
        "        margin-top: 10px;\n",
        "        padding: 8px 15px;\n",
        "        background-color: #3498db;\n",
        "        color: white;\n",
        "        text-decoration: none;\n",
        "        border-radius: 5px;\n",
        "        transition: background-color 0.3s ease;\n",
        "    }\n",
        "    .producto-link:hover {\n",
        "        background-color: #2980b9;\n",
        "    }\n",
        "    .loading-container {\n",
        "        display: flex;\n",
        "        justify-content: center;\n",
        "        align-items: center;\n",
        "        height: 50px;\n",
        "        margin-top: 20px;\n",
        "    }\n",
        "</style>\n",
        "\"\"\""
      ],
      "metadata": {
        "id": "OwKyfLyE2kEt"
      },
      "execution_count": null,
      "outputs": []
    },
    {
      "cell_type": "code",
      "source": [
        "# Función para realizar la búsqueda y traducción\n",
        "def buscar_y_traducir(query, idioma_origen, idioma_destino):\n",
        "    # Traducir la consulta al inglés\n",
        "    translator_to_en = GoogleTranslator(source=idioma_origen, target='en')\n",
        "    query_en = translator_to_en.translate(query)\n",
        "\n",
        "    # Vectorizar la consulta\n",
        "    query_embedding = model.encode(query_en).tolist()\n",
        "\n",
        "    # Realizar la búsqueda en Pinecone\n",
        "    results = index.query(\n",
        "        namespace=\"ns1\",\n",
        "        vector=query_embedding,\n",
        "        top_k=12,\n",
        "        include_values=False,\n",
        "        include_metadata=True,\n",
        "        filter={}\n",
        "    )\n",
        "\n",
        "    # Traducir los resultados al idioma destino\n",
        "    translator_from_en = GoogleTranslator(source='en', target=idioma_destino)\n",
        "    productos_traducidos = []\n",
        "    for match in results['matches']:\n",
        "        titulo_original = match['metadata'].get('title', '')\n",
        "        titulo_traducido = translator_from_en.translate(titulo_original)\n",
        "        productos_traducidos.append({\n",
        "            'nombre': titulo_traducido,\n",
        "            'precio': match['metadata'].get('price', 0),\n",
        "            'valoracion': match['metadata'].get('stars', 0),\n",
        "            'imagen': match['metadata'].get('imgUrl', ''),\n",
        "            'link': match['metadata'].get('productURL', '')\n",
        "        })\n",
        "\n",
        "    return productos_traducidos\n"
      ],
      "metadata": {
        "id": "GqQk1vQa2wz8"
      },
      "execution_count": null,
      "outputs": []
    },
    {
      "cell_type": "code",
      "source": [
        "# Función de búsqueda actualizada\n",
        "def realizar_busqueda(b):\n",
        "    query = busqueda.value\n",
        "    if not query:\n",
        "        return\n",
        "\n",
        "    with resultados:\n",
        "        resultados.clear_output()\n",
        "        display(loading)\n",
        "        idioma_seleccionado = idioma.value\n",
        "        productos = buscar_y_traducir(query, idioma_seleccionado, idioma_seleccionado)\n",
        "        resultados.clear_output()\n",
        "        display(mostrar_productos(productos))\n",
        "        display(HTML(f\"<p>Resultados de búsqueda para: <strong>{query}</strong></p>\"))\n"
      ],
      "metadata": {
        "id": "-Vwsy1Vd27US"
      },
      "execution_count": null,
      "outputs": []
    },
    {
      "cell_type": "code",
      "source": [
        "# Función para mostrar productos\n",
        "def mostrar_productos(productos):\n",
        "    html = estilos + \"<div class='tienda-container'>\"\n",
        "    html += \"<div class='productos-grid'>\"\n",
        "    for producto in productos:\n",
        "        html += f\"\"\"\n",
        "        <div class='producto-card'>\n",
        "            <img src='{producto[\"imagen\"]}' class='producto-imagen' alt='{producto[\"nombre\"]}'>\n",
        "            <div class='producto-info'>\n",
        "                <div class='producto-nombre'>{producto[\"nombre\"]}</div>\n",
        "                <div class='producto-precio'>${producto[\"precio\"]:.2f}</div>\n",
        "                <div class='producto-valoracion'>{'★' * int(producto[\"valoracion\"])}</div>\n",
        "                <a href='{producto[\"link\"]}' target='_blank' class='producto-link'>Ver en Amazon</a>\n",
        "            </div>\n",
        "        </div>\n",
        "        \"\"\"\n",
        "    html += \"</div></div>\"\n",
        "    return HTML(html)"
      ],
      "metadata": {
        "id": "4-T8CmtM29ub"
      },
      "execution_count": null,
      "outputs": []
    },
    {
      "cell_type": "code",
      "source": [
        "# Widgets actualizados\n",
        "busqueda = widgets.Text(placeholder=\"Busca productos...\", layout=widgets.Layout(flex='1'))\n",
        "boton_buscar = widgets.Button(description=\"Buscar\", layout=widgets.Layout(width='auto'))\n",
        "idioma = widgets.Dropdown(\n",
        "    options=[('Español', 'es'), ('English', 'en'), ('Français', 'fr')],\n",
        "    value='es',\n",
        "    layout=widgets.Layout(width='auto')\n",
        ")\n",
        "resultados = widgets.Output()\n",
        "loading = widgets.HTML('''\n",
        "<div class=\"loading-container\">\n",
        "    <script src=\"https://unpkg.com/@dotlottie/player-component@latest/dist/dotlottie-player.mjs\" type=\"module\"></script>\n",
        "    <dotlottie-player src=\"https://lottie.host/d067c7ba-cfc3-4d82-b5ab-6046b51f3a14/pVWK5frgrG.json\" background=\"transparent\" speed=\"1\" style=\"width: 100px; height: 100px;\" loop autoplay></dotlottie-player>\n",
        "</div>\n",
        "''')\n",
        "\n",
        "\n",
        "\n",
        "\n",
        "# Conectar la función de búsqueda al botón y al evento de Enter\n",
        "boton_buscar.on_click(realizar_busqueda)\n",
        "busqueda.on_submit(realizar_busqueda)\n",
        "\n",
        "# Mostrar la interfaz actualizada\n",
        "header_html = \"\"\"\n",
        "<div class=\"header\">\n",
        "    <div class=\"logo\"><img src=\"https://sopyfive.com/external/amazon.png\" alt=\"Amazon Logo\" style=\"height: 30px; margin-top: 10px\"></div>\n",
        "    <div id=\"busqueda-container\" style=\"flex: 1; display: flex;\"></div>\n",
        "    <div id=\"idioma-container\" class=\"language-selector\"></div>\n",
        "</div>\n",
        "\"\"\"\n",
        "\n",
        "display(HTML(estilos + header_html))\n",
        "display(widgets.HBox([busqueda, boton_buscar], layout=widgets.Layout(display='flex', flex='1')))\n",
        "display(widgets.HBox([idioma], layout=widgets.Layout(display='flex', justify_content='flex-end')))\n",
        "display(resultados)\n",
        "\n",
        "# Aplicar estilos personalizados a los widgets\n",
        "display(HTML(\"\"\"\n",
        "<script>\n",
        "    var busquedaElement = document.querySelector('.widget-text input');\n",
        "    busquedaElement.classList.add('search-bar');\n",
        "    var botonBuscarElement = document.querySelector('.widget-button');\n",
        "    botonBuscarElement.classList.add('search-button');\n",
        "    var idiomaElement = document.querySelector('.widget-dropdown select');\n",
        "    idiomaElement.classList.add('language-selector');\n",
        "\n",
        "    var busquedaContainer = document.getElementById('busqueda-container');\n",
        "    busquedaContainer.appendChild(busquedaElement.parentElement);\n",
        "    busquedaContainer.appendChild(botonBuscarElement);\n",
        "\n",
        "    var idiomaContainer = document.getElementById('idioma-container');\n",
        "    idiomaContainer.appendChild(idiomaElement.parentElement);\n",
        "</script>\n",
        "\"\"\"))\n"
      ],
      "metadata": {
        "id": "f1oH1HXZPme9"
      },
      "execution_count": null,
      "outputs": []
    },
    {
      "cell_type": "markdown",
      "source": [
        "# **Código que se utilizó en su momento para procesar datos y montar la BD en pinecone**"
      ],
      "metadata": {
        "id": "qMDw0cpC3HwT"
      }
    },
    {
      "cell_type": "code",
      "source": [
        "# Montar Google Drive\n",
        "from google.colab import drive\n",
        "drive.mount('/content/drive')"
      ],
      "metadata": {
        "id": "ULzfenjR3cMT"
      },
      "execution_count": null,
      "outputs": []
    },
    {
      "cell_type": "code",
      "source": [
        "# Cargar el archivo CSV\n",
        "file_path_cat = '/content/drive/MyDrive/datasets/amazon_products/amazon_categories.csv'\n",
        "df_cat = pd.read_csv(file_path_cat)\n",
        "file_path = '/content/drive/MyDrive/datasets/amazon_products/amazon_products.csv'\n",
        "df = pd.read_csv(file_path)"
      ],
      "metadata": {
        "id": "hKlmxoj_3e5-"
      },
      "execution_count": null,
      "outputs": []
    },
    {
      "cell_type": "code",
      "source": [
        "# Combinar las tablas en base a 'category_id'\n",
        "df_combined = pd.merge(final_df, categories, left_on='category_id', right_on='id', how='left')\n",
        "\n",
        "# Combinar las columnas para vectorizar ambas\n",
        "df_combined['combined_text'] = df_combined['title'] + ' ' + df_combined['category_name']\n",
        "\n",
        "# Seleccionar la columna combinada\n",
        "combined_texts = df_combined['combined_text'].tolist()"
      ],
      "metadata": {
        "id": "ibWWruDJ3mul"
      },
      "execution_count": null,
      "outputs": []
    },
    {
      "cell_type": "code",
      "source": [
        "# Generar embeddings para los textos combinados con barra de progreso y tamaño de lote\n",
        "embeddings = model.encode(combined_texts, show_progress_bar=True, batch_size=512)\n",
        "\n",
        "# Añadir los embeddings al DataFrame\n",
        "final_df['embeddings'] = embeddings.tolist()\n",
        "\n",
        "output_file_path = '/content/drive/MyDrive/datasets/amazon_products/amazon-embeddings.csv'\n",
        "df_part.to_csv(output_file_path, index=False)\n",
        "\n",
        "\n",
        "print(f\"Archivo guardado en: {output_file_path}\")"
      ],
      "metadata": {
        "id": "AlpwX3zx4JFL"
      },
      "execution_count": null,
      "outputs": []
    },
    {
      "cell_type": "code",
      "source": [
        "# Subir la bd a pinecone por lotes\n",
        "\n",
        "# Define el tamaño del fragmento\n",
        "chunk_size = 500\n",
        "\n",
        "for chunk in df_part:\n",
        "    data = []\n",
        "    for _, row in chunk.iterrows():\n",
        "        try:\n",
        "            embeddings = ast.literal_eval(row['embeddings'])\n",
        "\n",
        "            data.append({\n",
        "                'id': str(row['asin']),\n",
        "                'values': embeddings,\n",
        "                'metadata': {\n",
        "                    'title': str(row['title']),\n",
        "                    'imgUrl': str(row['imgUrl']),\n",
        "                    'productURL': str(row['productURL']),\n",
        "                    'stars': float(row['stars']),\n",
        "                    'price': float(row['price']),\n",
        "                    'category_id': str(row['category_id']),\n",
        "                }\n",
        "            })\n",
        "        except (ValueError, SyntaxError) as e:\n",
        "            print(f\"Error al procesar la fila: {row['asin']}. Error: {e}\")\n",
        "\n",
        "    if data:\n",
        "        try:\n",
        "            index.upsert(vectors=data, namespace='ns1')\n",
        "            print(f\"Fragmento de {len(data)} vectores subido exitosamente.\")\n",
        "            vectors_count += len(data)\n",
        "        except Exception as e:\n",
        "            print(f\"Error al subir el fragmento: {e}\")\n",
        "    else:\n",
        "        print(\"No hay nuevos datos para subir en este fragmento.\")\n",
        "\n",
        "    print(f\"Total de vectores subidos: {vectors_count}\")\n",
        "\n",
        "print(\"Proceso completado.\")"
      ],
      "metadata": {
        "id": "3lj_P7OP3FhD"
      },
      "execution_count": null,
      "outputs": []
    }
  ],
  "metadata": {
    "colab": {
      "provenance": []
    },
    "kernelspec": {
      "display_name": "Python 3",
      "name": "python3"
    },
    "language_info": {
      "name": "python"
    }
  },
  "nbformat": 4,
  "nbformat_minor": 0
}